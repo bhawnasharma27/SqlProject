{
 "cells": [
  {
   "cell_type": "code",
   "execution_count": 1,
   "metadata": {},
   "outputs": [],
   "source": [
    "import tkinter"
   ]
  },
  {
   "cell_type": "code",
   "execution_count": 3,
   "metadata": {},
   "outputs": [],
   "source": [
    "import tkinter\n",
    "from tkinter import *\n",
    "import tkinter.messagebox\n",
    "\n",
    "def getSquareRoot ():  \n",
    "    x1 = entry1.get()\n",
    "    \n",
    "    label1 = Label(main, text= float(x1)**0.5)\n",
    "    canvas1.create_window(20, 20, window=label1)\n",
    "\n"
   ]
  },
  {
   "cell_type": "code",
   "execution_count": 11,
   "metadata": {},
   "outputs": [],
   "source": [
    "\n",
    "main = Tk()\n",
    "main.geometry(\"1000x750\")\n",
    "main.configure(background='light green')\n",
    "main.title('Banking Managment System')\n",
    "\n",
    "#heading = Label(main ,bg=\"blue\",font=\"Helvetica 20 bold italic\", text='Welcome to Sinha bank')\n",
    "#heading.pack()\n",
    "\n",
    "canvas1 = Canvas(main, width = 300, height = 100)\n",
    "\n",
    "canvas1.pack()\n",
    "\n",
    "\n",
    "main.mainloop()\n"
   ]
  },
  {
   "cell_type": "code",
   "execution_count": null,
   "metadata": {},
   "outputs": [],
   "source": []
  }
 ],
 "metadata": {
  "kernelspec": {
   "display_name": "Python 3",
   "language": "python",
   "name": "python3"
  },
  "language_info": {
   "codemirror_mode": {
    "name": "ipython",
    "version": 3
   },
   "file_extension": ".py",
   "mimetype": "text/x-python",
   "name": "python",
   "nbconvert_exporter": "python",
   "pygments_lexer": "ipython3",
   "version": "3.7.3"
  }
 },
 "nbformat": 4,
 "nbformat_minor": 2
}
